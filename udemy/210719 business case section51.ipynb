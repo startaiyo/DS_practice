{
 "cells": [
  {
   "cell_type": "code",
   "execution_count": 2,
   "id": "366da10f",
   "metadata": {},
   "outputs": [],
   "source": [
    "import numpy as np\n",
    "from sklearn import preprocessing\n",
    "\n",
    "raw_csv_data = np.loadtxt('Audiobooks-data.csv',delimiter = ',')\n",
    "unscaled_inputs_all = raw_csv_data[:,1:-1]\n",
    "targets_all = raw_csv_data[:,-1]"
   ]
  },
  {
   "cell_type": "code",
   "execution_count": 3,
   "id": "e30343da",
   "metadata": {},
   "outputs": [],
   "source": [
    "#バランシング(targetが0と1の量が揃うように調整、具体的には0の数が1の数を超えたらそれ以降の0のデータを全て消す。)\n",
    "num_one_targets = int(np.sum(targets_all))\n",
    "zero_targets_counter = 0\n",
    "indices_to_remove = []\n",
    "\n",
    "for i in range(targets_all.shape[0]):\n",
    "    if targets_all[i]==0:\n",
    "        zero_targets_counter += 1\n",
    "        if zero_targets_counter > num_one_targets:\n",
    "            indices_to_remove.append(i)\n",
    "            \n",
    "unscaled_inputs_equal_priors = np.delete(unscaled_inputs_all,indices_to_remove,axis = 0)\n",
    "targets_equal_priors = np.delete(targets_all,indices_to_remove,axis = 0)"
   ]
  },
  {
   "cell_type": "code",
   "execution_count": 4,
   "id": "5b4d2dc1",
   "metadata": {},
   "outputs": [],
   "source": [
    "#標準化(データの影響の大きさを同じにする)\n",
    "scaled_inputs = preprocessing.scale(unscaled_inputs_equal_priors)"
   ]
  },
  {
   "cell_type": "code",
   "execution_count": 5,
   "id": "9da596b5",
   "metadata": {},
   "outputs": [],
   "source": [
    "#シャッフル(バッチ処理をするため、処理ごとに特定のデータが集中してしまうことを避ける。)\n",
    "shuffled_indices = np.arange(scaled_inputs.shape[0])\n",
    "np.random.shuffle(shuffled_indices)\n",
    "shuffled_inputs = scaled_inputs[shuffled_indices]\n",
    "shuffled_targets = targets_equal_priors[shuffled_indices]"
   ]
  },
  {
   "cell_type": "code",
   "execution_count": 6,
   "id": "0aa835cb",
   "metadata": {},
   "outputs": [
    {
     "name": "stdout",
     "output_type": "stream",
     "text": [
      "1809.0 3579 0.5054484492875104\n",
      "211.0 3579 0.4720357941834452\n",
      "217.0 448 0.484375\n"
     ]
    }
   ],
   "source": [
    "#訓練用、検証用、テスト用に分割_count\n",
    "samples_count = shuffled_inputs.shape[0]\n",
    "train_samples_count = int(0.8*samples_count)\n",
    "validation_samples_count = int(0.1*samples_count)\n",
    "test_samples_count = samples_count -train_samples_count - validation_samples_count\n",
    "\n",
    "train_inputs = shuffled_inputs[:train_samples_count]\n",
    "train_targets = shuffled_targets[:train_samples_count]\n",
    "\n",
    "validation_inputs = shuffled_inputs[train_samples_count:train_samples_count+validation_samples_count]\n",
    "validation_targets = shuffled_targets[train_samples_count:train_samples_count+validation_samples_count]\n",
    "\n",
    "test_inputs = shuffled_inputs[train_samples_count+validation_samples_count:]\n",
    "test_targets = shuffled_targets[train_samples_count+validation_samples_count:]\n",
    "#大体0と1が半々になっていると良い。\n",
    "print(np.sum(train_targets),train_samples_count,np.sum(train_targets)/train_samples_count)\n",
    "print(np.sum(validation_targets),train_samples_count,np.sum(validation_targets)/validation_samples_count)\n",
    "print(np.sum(test_targets),test_samples_count,np.sum(test_targets)/test_samples_count)"
   ]
  },
  {
   "cell_type": "code",
   "execution_count": 7,
   "id": "ccd5e4cc",
   "metadata": {},
   "outputs": [],
   "source": [
    "#データ保存\n",
    "np.savez('Audiobooks_data_train',inputs = train_inputs,targets = train_targets)\n",
    "np.savez('Audiobooks_data_validation',inputs = validation_inputs,targets = validation_targets)\n",
    "np.savez('Audiobooks_data_test',inputs = test_inputs,targets = test_targets)"
   ]
  },
  {
   "cell_type": "code",
   "execution_count": 8,
   "id": "586473b0",
   "metadata": {},
   "outputs": [
    {
     "name": "stdout",
     "output_type": "stream",
     "text": [
      "Epoch 1/100\n",
      "36/36 - 1s - loss: 0.5960 - accuracy: 0.6683 - val_loss: 0.4951 - val_accuracy: 0.7651\n",
      "Epoch 2/100\n",
      "36/36 - 0s - loss: 0.4659 - accuracy: 0.7614 - val_loss: 0.4240 - val_accuracy: 0.8076\n",
      "Epoch 3/100\n",
      "36/36 - 0s - loss: 0.4175 - accuracy: 0.7793 - val_loss: 0.3914 - val_accuracy: 0.7919\n",
      "Epoch 4/100\n",
      "36/36 - 0s - loss: 0.3910 - accuracy: 0.7857 - val_loss: 0.3786 - val_accuracy: 0.7830\n",
      "Epoch 5/100\n",
      "36/36 - 0s - loss: 0.3757 - accuracy: 0.7969 - val_loss: 0.3640 - val_accuracy: 0.8233\n",
      "Epoch 6/100\n",
      "36/36 - 0s - loss: 0.3630 - accuracy: 0.8044 - val_loss: 0.3509 - val_accuracy: 0.8098\n",
      "Epoch 7/100\n",
      "36/36 - 0s - loss: 0.3564 - accuracy: 0.8094 - val_loss: 0.3457 - val_accuracy: 0.8098\n",
      "Epoch 8/100\n",
      "36/36 - 0s - loss: 0.3484 - accuracy: 0.8153 - val_loss: 0.3380 - val_accuracy: 0.8300\n",
      "Epoch 9/100\n",
      "36/36 - 0s - loss: 0.3448 - accuracy: 0.8128 - val_loss: 0.3371 - val_accuracy: 0.8121\n",
      "Epoch 10/100\n",
      "36/36 - 0s - loss: 0.3437 - accuracy: 0.8108 - val_loss: 0.3364 - val_accuracy: 0.8389\n",
      "Epoch 11/100\n",
      "36/36 - 0s - loss: 0.3428 - accuracy: 0.8156 - val_loss: 0.3306 - val_accuracy: 0.8255\n",
      "Epoch 12/100\n",
      "36/36 - 0s - loss: 0.3347 - accuracy: 0.8153 - val_loss: 0.3298 - val_accuracy: 0.8389\n",
      "Epoch 13/100\n",
      "36/36 - 0s - loss: 0.3312 - accuracy: 0.8248 - val_loss: 0.3371 - val_accuracy: 0.8166\n",
      "Epoch 14/100\n",
      "36/36 - 0s - loss: 0.3339 - accuracy: 0.8226 - val_loss: 0.3240 - val_accuracy: 0.8345\n",
      "Epoch 15/100\n",
      "36/36 - 0s - loss: 0.3285 - accuracy: 0.8259 - val_loss: 0.3252 - val_accuracy: 0.8322\n",
      "Epoch 16/100\n",
      "36/36 - 0s - loss: 0.3271 - accuracy: 0.8189 - val_loss: 0.3339 - val_accuracy: 0.8255\n"
     ]
    },
    {
     "data": {
      "text/plain": [
       "<tensorflow.python.keras.callbacks.History at 0x7fea6fac7d60>"
      ]
     },
     "execution_count": 8,
     "metadata": {},
     "output_type": "execute_result"
    }
   ],
   "source": [
    "import tensorflow as tf\n",
    "\n",
    "input_size = 10\n",
    "output_size = 2\n",
    "# 隠れ層のユニットの数を定義します\n",
    "hidden_layer_size = 50\n",
    "    \n",
    "# モデルの定義を進めていきます\n",
    "model = tf.keras.Sequential([    \n",
    "    tf.keras.layers.Dense(hidden_layer_size, activation='relu'), # 1番目の隠れ層\n",
    "    tf.keras.layers.Dense(hidden_layer_size, activation='relu'), # 2番目の隠れ層\n",
    "    tf.keras.layers.Dense(output_size, activation='softmax') # 出力層\n",
    "])\n",
    "#損失が上がったり下がったりしているのでアーリーストッピングが必要\n",
    "model.compile(optimizer='adam', loss='sparse_categorical_crossentropy',metrics = ['accuracy'])\n",
    "batch_size = 100\n",
    "max_epochs = 100\n",
    "#損失関数が1回増えてしまっても繰り返す。\n",
    "early_stopping  = tf.keras.callbacks.EarlyStopping(patience =2)\n",
    "model.fit(train_inputs,\n",
    "          train_targets,\n",
    "          batch_size = batch_size,\n",
    "          epochs =max_epochs,\n",
    "          validation_data = (validation_inputs,validation_targets),\n",
    "          callbacks = [early_stopping],\n",
    "          verbose = 2)"
   ]
  },
  {
   "cell_type": "code",
   "execution_count": 10,
   "id": "5341ff15",
   "metadata": {},
   "outputs": [
    {
     "name": "stdout",
     "output_type": "stream",
     "text": [
      "14/14 [==============================] - 0s 1ms/step - loss: 0.3549 - accuracy: 0.8036\n"
     ]
    }
   ],
   "source": [
    "#モデルのテスト\n",
    "test_loss, test_accuracy = model.evaluate(test_inputs, test_targets)"
   ]
  },
  {
   "cell_type": "code",
   "execution_count": 11,
   "id": "14fabdd4",
   "metadata": {},
   "outputs": [
    {
     "data": {
      "text/plain": [
       "(0.3548872172832489, 0.8035714030265808)"
      ]
     },
     "execution_count": 11,
     "metadata": {},
     "output_type": "execute_result"
    }
   ],
   "source": [
    "#test_accuracy < val_accuracyなので若干過学習気味)\n",
    "test_loss, test_accuracy"
   ]
  },
  {
   "cell_type": "code",
   "execution_count": null,
   "id": "9440c12b",
   "metadata": {},
   "outputs": [],
   "source": []
  }
 ],
 "metadata": {
  "kernelspec": {
   "display_name": "Python 3",
   "language": "python",
   "name": "python3"
  },
  "language_info": {
   "codemirror_mode": {
    "name": "ipython",
    "version": 3
   },
   "file_extension": ".py",
   "mimetype": "text/x-python",
   "name": "python",
   "nbconvert_exporter": "python",
   "pygments_lexer": "ipython3",
   "version": "3.8.10"
  }
 },
 "nbformat": 4,
 "nbformat_minor": 5
}
