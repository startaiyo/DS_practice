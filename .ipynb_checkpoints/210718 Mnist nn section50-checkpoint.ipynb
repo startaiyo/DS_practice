{
 "cells": [
  {
   "cell_type": "markdown",
   "metadata": {},
   "source": [
    "# MNISTによる分類問題"
   ]
  },
  {
   "cell_type": "markdown",
   "metadata": {},
   "source": [
    "## ライブラリのインポート"
   ]
  },
  {
   "cell_type": "code",
   "execution_count": 6,
   "metadata": {},
   "outputs": [],
   "source": [
    "import numpy as np\n",
    "import tensorflow as tf\n",
    "\n",
    "import tensorflow_datasets as tfds"
   ]
  },
  {
   "cell_type": "markdown",
   "metadata": {},
   "source": [
    "## データの読み込みと前処理\n"
   ]
  },
  {
   "cell_type": "code",
   "execution_count": 7,
   "metadata": {},
   "outputs": [],
   "source": [
    "# tfds.loadを使ってデータセットを読み込んでいきます \n",
    "#as_supervisedは正解データも持ってくる。\n",
    "mnist_dataset, mnist_info = tfds.load(name='mnist', with_info=True, as_supervised=True)\n",
    "# with_info=True をすることによって、データに関する情報を得ることができるようになります。 \n",
    "\n",
    "mnist_train, mnist_test = mnist_dataset['train'], mnist_dataset['test']\n",
    "\n",
    "# ここから検証用データセットを作っていきます。まずは、検証用データに割り当てる割合を決めます。\n",
    "num_validation_samples = 0.1 * mnist_info.splits['train'].num_examples\n",
    "# 数字を整数に変換していきます（既に整数になっている場合も念のため行います）\n",
    "num_validation_samples = tf.cast(num_validation_samples, tf.int64)\n",
    "\n",
    "# テストデータの数も変数に入れていきます\n",
    "num_test_samples = mnist_info.splits['test'].num_examples\n",
    "# 数字を整数に変換していきます\n",
    "num_test_samples = tf.cast(num_test_samples, tf.int64)\n",
    "\n",
    "\n",
    "# 元の入力データの範囲である0から255を0と1に変えていきます\n",
    "# 今回は、変換するための関数を作成していきます\n",
    "def scale(image, label):\n",
    "    # 数字が小数であることを確認します\n",
    "    image = tf.cast(image, tf.float32)\n",
    "    # 0と1の範囲におさめるため、255で割っていきます \n",
    "    image /= 255.\n",
    "\n",
    "    return image, label\n",
    "\n",
    "\n",
    "# mapメソッドを使ってデータの変換を行っていきます\n",
    "scaled_train_and_validation_data = mnist_train.map(scale)\n",
    "\n",
    "# テストデータに関しても同様の変換を行っていきます\n",
    "test_data = mnist_test.map(scale)\n",
    "\n",
    "#データをシャッフルするためのバッファのサイズを決めていきます\n",
    "BUFFER_SIZE = 10000\n",
    "\n",
    "# シャッフルメソッドを使ってデータをシャッフルしていきます\n",
    "shuffled_train_and_validation_data = scaled_train_and_validation_data.shuffle(BUFFER_SIZE)\n",
    "\n",
    "# takeメソッドを使ってシャッフルした検証用データを変数に代入していきます\n",
    "validation_data = shuffled_train_and_validation_data.take(num_validation_samples)\n",
    "\n",
    "# skipメソッドを使って訓練用データセットを変数に代入します\n",
    "train_data = shuffled_train_and_validation_data.skip(num_validation_samples)\n",
    "\n",
    "# batchの大きさを定義します\n",
    "BATCH_SIZE = 100\n",
    "\n",
    "# 訓練データをバッチの数毎に分けていきます\n",
    "train_data = train_data.batch(BATCH_SIZE)\n",
    "\n",
    "validation_data = validation_data.batch(num_validation_samples)\n",
    "\n",
    "# テストデータに関してもバッチ毎に分けていきます\n",
    "test_data = test_data.batch(num_test_samples)\n",
    "\n",
    "\n",
    "# ここは,の後ろを必ずスペース空ける！\n",
    "validation_inputs, validation_targets = next(iter(validation_data))"
   ]
  },
  {
   "cell_type": "markdown",
   "metadata": {},
   "source": [
    "## モデルの作成"
   ]
  },
  {
   "cell_type": "markdown",
   "metadata": {},
   "source": [
    "### モデルの作成\n"
   ]
  },
  {
   "cell_type": "code",
   "execution_count": 8,
   "metadata": {},
   "outputs": [],
   "source": [
    "input_size = 784\n",
    "output_size = 10\n",
    "# 隠れ層のユニットの数を定義します\n",
    "hidden_layer_size = 50\n",
    "    \n",
    "# モデルの定義を進めていきます\n",
    "model = tf.keras.Sequential([\n",
    "    \n",
    "    # 入力層の定義をしていきます\n",
    "    # もとの行列のデータをベクトルに変換します\n",
    "    tf.keras.layers.Flatten(input_shape=(28, 28, 1)), # 入力層\n",
    "    \n",
    "    # tf.keras.layers.Dense は線形結合をするための計算を行います。つまり、入力と重みの積にバイアスを追加する形です\n",
    "    # 引数として、ここでは隠れ層の数と活性化関数を指定します\n",
    "    tf.keras.layers.Dense(hidden_layer_size, activation='relu'), # 1番目の隠れ層\n",
    "    tf.keras.layers.Dense(hidden_layer_size, activation='relu'), # 2番目の隠れ層\n",
    "    \n",
    "    # 最後の層の活性関数はソフトマックスとします\n",
    "    tf.keras.layers.Dense(output_size, activation='softmax') # 出力層\n",
    "])"
   ]
  },
  {
   "cell_type": "markdown",
   "metadata": {},
   "source": [
    "### 最適化アルゴリズムと損失関数の選択"
   ]
  },
  {
   "cell_type": "code",
   "execution_count": 9,
   "metadata": {},
   "outputs": [],
   "source": [
    "# 最適化アルゴリズムはadamを、損失関数はクロスエントロピーを使っていきます\n",
    "model.compile(optimizer='adam', loss='sparse_categorical_crossentropy', metrics=['accuracy'])"
   ]
  },
  {
   "cell_type": "markdown",
   "metadata": {},
   "source": [
    "### 訓練\n"
   ]
  },
  {
   "cell_type": "code",
   "execution_count": 10,
   "metadata": {},
   "outputs": [
    {
     "name": "stdout",
     "output_type": "stream",
     "text": [
      "Epoch 1/5\n",
      "540/540 - 3s - loss: 0.4171 - accuracy: 0.8790 - val_loss: 0.2130 - val_accuracy: 0.9402\n",
      "Epoch 2/5\n",
      "540/540 - 2s - loss: 0.1754 - accuracy: 0.9489 - val_loss: 0.1518 - val_accuracy: 0.9572\n",
      "Epoch 3/5\n",
      "540/540 - 2s - loss: 0.1355 - accuracy: 0.9607 - val_loss: 0.1182 - val_accuracy: 0.9680\n",
      "Epoch 4/5\n",
      "540/540 - 2s - loss: 0.1078 - accuracy: 0.9675 - val_loss: 0.1204 - val_accuracy: 0.9653\n",
      "Epoch 5/5\n",
      "540/540 - 2s - loss: 0.0934 - accuracy: 0.9716 - val_loss: 0.0918 - val_accuracy: 0.9737\n"
     ]
    },
    {
     "data": {
      "text/plain": [
       "<tensorflow.python.keras.callbacks.History at 0x7fad03378d30>"
      ]
     },
     "execution_count": 10,
     "metadata": {},
     "output_type": "execute_result"
    }
   ],
   "source": [
    "# 繰り返しの回数を決めます\n",
    "NUM_EPOCHS = 5\n",
    "\n",
    "# モデルに対してデータを入れて演算を行っていきます\n",
    "model.fit(train_data, epochs=NUM_EPOCHS, validation_data=(validation_inputs, validation_targets), verbose =2)"
   ]
  },
  {
   "cell_type": "code",
   "execution_count": null,
   "metadata": {},
   "outputs": [],
   "source": []
  },
  {
   "cell_type": "code",
   "execution_count": null,
   "metadata": {},
   "outputs": [],
   "source": []
  }
 ],
 "metadata": {
  "kernelspec": {
   "display_name": "Python 3",
   "language": "python",
   "name": "python3"
  },
  "language_info": {
   "codemirror_mode": {
    "name": "ipython",
    "version": 3
   },
   "file_extension": ".py",
   "mimetype": "text/x-python",
   "name": "python",
   "nbconvert_exporter": "python",
   "pygments_lexer": "ipython3",
   "version": "3.8.10"
  }
 },
 "nbformat": 4,
 "nbformat_minor": 2
}
